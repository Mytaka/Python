{
  "cells": [
    {
      "cell_type": "markdown",
      "metadata": {
        "id": "view-in-github",
        "colab_type": "text"
      },
      "source": [
        "<a href=\"https://colab.research.google.com/github/Mytaka/projects-python/blob/main/3_laba.ipynb\" target=\"_parent\"><img src=\"https://colab.research.google.com/assets/colab-badge.svg\" alt=\"Open In Colab\"/></a>"
      ]
    },
    {
      "cell_type": "markdown",
      "source": [
        "Лабораторна робота №3\n",
        "Зуєв Микита 201-ТК\n"
      ],
      "metadata": {
        "id": "dbzgcYW5V9qC"
      }
    },
    {
      "cell_type": "markdown",
      "source": [
        "Завдання 1 : Створи рядок, який містить ім'я (name) та вік користувача (age), використовуючи f-string. Виведіть цей рядок у форматі:\n",
        "Мене звути {name} і мені {age} років.\n"
      ],
      "metadata": {
        "id": "S_9utPXEWXyG"
      }
    },
    {
      "cell_type": "code",
      "source": [
        "name = 'Nikita'\n",
        "age = 18\n",
        "\n",
        "print(f'Мене звути {name} і мені {age} років ')"
      ],
      "metadata": {
        "id": "I01yMTnqWZMk",
        "outputId": "d0180f24-4f6d-45ed-c632-22bebc2d1fff",
        "colab": {
          "base_uri": "https://localhost:8080/"
        }
      },
      "execution_count": null,
      "outputs": [
        {
          "output_type": "stream",
          "name": "stdout",
          "text": [
            "Мене звути Nikita і мені 18 років \n"
          ]
        }
      ]
    },
    {
      "cell_type": "markdown",
      "source": [
        "Завдання 2: Створи рядок, який містить результат виразу 2 + 3 * 4, використовуючи f-string. Виведи рядок у форматі: \"Результат виразу 2 + 3 * 4 дорівнює 14.\""
      ],
      "metadata": {
        "id": "lmVzdxaQWdQL"
      }
    },
    {
      "cell_type": "code",
      "source": [
        "print(f'Результат виразу 2+3*4 = {2+3*4}')"
      ],
      "metadata": {
        "id": "ZzToS7J7Wdej",
        "outputId": "b02b66b7-64be-46bf-bb81-8171d87a0617",
        "colab": {
          "base_uri": "https://localhost:8080/"
        }
      },
      "execution_count": null,
      "outputs": [
        {
          "output_type": "stream",
          "name": "stdout",
          "text": [
            "Результат виразу 2+3*4 = 14\n"
          ]
        }
      ]
    },
    {
      "cell_type": "markdown",
      "source": [
        "Завдання 3: Виведи число 1234.56789 з двома десятковими знаками після коми у форматі: \"Число з двома десятковими знаками: 1234.57\" - .2f"
      ],
      "metadata": {
        "id": "a6__xcKYWdnb"
      }
    },
    {
      "cell_type": "code",
      "source": [
        "print(f'Число з двома десятковими знаками: {round(1234.56789,2)} - .2f')"
      ],
      "metadata": {
        "id": "jpPvvOHuWdxj",
        "outputId": "e505e7f1-a17a-4dc1-84d4-3420fec362b6",
        "colab": {
          "base_uri": "https://localhost:8080/"
        }
      },
      "execution_count": null,
      "outputs": [
        {
          "output_type": "stream",
          "name": "stdout",
          "text": [
            "Число з двома десятковими знаками: 1234.57\n"
          ]
        }
      ]
    },
    {
      "cell_type": "markdown",
      "source": [
        "Завдання 4: Виведи число 9876.54321 з чотирма десятковими знаками після коми, округлене до найближчого значення, у форматі: \"Округлене число: 9876.5432\""
      ],
      "metadata": {
        "id": "Aeu26iXdWd4Q"
      }
    },
    {
      "cell_type": "code",
      "source": [
        "print(f'Округлене число: {round(9876.54321,4)}')"
      ],
      "metadata": {
        "id": "gahD8EXRWd9u",
        "outputId": "b05a1410-fb7a-4441-bab9-d342dcfcd871",
        "colab": {
          "base_uri": "https://localhost:8080/"
        }
      },
      "execution_count": null,
      "outputs": [
        {
          "output_type": "stream",
          "name": "stdout",
          "text": [
            "Округлене число: 9876.5432\n"
          ]
        }
      ]
    },
    {
      "cell_type": "markdown",
      "source": [
        "Завдання 5: Створіть програму, яка запитує у користувача три різних числа (num1, num2, num3). Виведіть ці числа у форматованому вигляді з комами, щоб відокремити тисячі. Наприклад, якщо число дорівнює 1000000, то виведіть його як 1,000,000."
      ],
      "metadata": {
        "id": "X5R5rZu4WeDd"
      }
    },
    {
      "cell_type": "code",
      "source": [
        "num1 = int(input())\n",
        "num2 = int(input())\n",
        "num3 = int(input())\n",
        "\n",
        "res1 = f'{num1:,}'\n",
        "res2 = f'{num2:,}'\n",
        "res3 = f'{num3:,}'\n",
        "print(res1,'\\n',res2,'\\n',res3)"
      ],
      "metadata": {
        "id": "Hj0mxKcGWeIs",
        "outputId": "16436a39-6660-44ff-dd8b-a35ee61cb86b",
        "colab": {
          "base_uri": "https://localhost:8080/"
        }
      },
      "execution_count": null,
      "outputs": [
        {
          "output_type": "stream",
          "name": "stdout",
          "text": [
            "1000000\n",
            "1900000000\n",
            "10000000000\n",
            "1,000,000 \n",
            " 1,900,000,000 \n",
            " 10,000,000,000\n"
          ]
        }
      ]
    },
    {
      "cell_type": "markdown",
      "source": [
        "Завдання 6: Виведи число 0.254 як відсоток з двома десятковими знаками після коми у форматі: \"Відсоткове значення: 25.40%\""
      ],
      "metadata": {
        "id": "VZnc59JQWuck"
      }
    },
    {
      "cell_type": "code",
      "source": [
        "num = 0.0254\n",
        "print(f'{num*10:.2%}')"
      ],
      "metadata": {
        "id": "XrOP_1jDWvn7",
        "outputId": "bc04ac27-fb57-4dc2-e105-3e5beb089e8c",
        "colab": {
          "base_uri": "https://localhost:8080/"
        }
      },
      "execution_count": null,
      "outputs": [
        {
          "output_type": "stream",
          "name": "stdout",
          "text": [
            "25.40%\n"
          ]
        }
      ]
    },
    {
      "cell_type": "markdown",
      "source": [
        "Завдання  7: Створіть програму, яка виводить таблицю з інформацією про акції. У таблиці повинні бути такі стовпці: \"Name\", \"Shares\", \"Price\", \"Change\". Використовуйте форматування, щоб:\n",
        "•\t\"Name\" займав 10 символів і вирівнювався вліво.\n",
        "•\t\"Shares\" займав 10 символів і вирівнювався вправо.\n",
        "•\t\"Price\" займав 10 символів, відображався з символом долара та двома знаками після коми.\n",
        "•\t\"Change\" займав 10 символів, відображався з двома знаками після коми та зі знаком відсотка\n"
      ],
      "metadata": {
        "id": "5GePVOPlWvTT"
      }
    },
    {
      "cell_type": "code",
      "source": [
        "Name = 'Name'\n",
        "Share = 'Share'\n",
        "Price = 'Price'\n",
        "Change = 'Change'\n",
        "\n",
        "print(f\"{Name:<10} {Share:>10} {Price:^10} {Change:^10}\")\n",
        "print('---------- '*4)\n",
        "print(f\"{'AA':<10} {100:>10} {'$9.22':>10} {'-22.98%':>10}\")\n",
        "print(f\"{'IBM':<10} {50:>10} {'$106.28':>10} {'15.18%':>10}\")\n",
        "print(f\"{'CAT':<10} {150:>10} {'$36.46':>10} {'-47.98%':>10}\")\n",
        "print(f\"{'MSFT':<10} {200:>10} {'$20.89':>10} {'-30.34':>10}\")\n",
        "print(f\"{'GE':<10} {95:>10} {'$13.48':>10} {'-26.89%':>10}\")\n",
        "print(f\"{'MSFT':<10} {50:>10} {'$20.89':>10} {'-44.21%':>10}\")\n",
        "print(f\"{'IBM':<10} {100:>10} {'$106.28':>10} {'-36.84%':>10}\")"
      ],
      "metadata": {
        "id": "ud-6IZbXWyJB",
        "outputId": "a807ba94-128c-450b-d98d-3257a136ee2c",
        "colab": {
          "base_uri": "https://localhost:8080/"
        }
      },
      "execution_count": null,
      "outputs": [
        {
          "output_type": "stream",
          "name": "stdout",
          "text": [
            "Name            Share   Price      Change  \n",
            "---------- ---------- ---------- ---------- \n",
            "AA                100      $9.22    -22.98%\n",
            "IBM                50    $106.28     15.18%\n",
            "CAT               150     $36.46    -47.98%\n",
            "MSFT              200     $20.89     -30.34\n",
            "GE                 95     $13.48    -26.89%\n",
            "MSFT               50     $20.89    -44.21%\n",
            "IBM               100    $106.28    -36.84%\n"
          ]
        }
      ]
    },
    {
      "cell_type": "markdown",
      "source": [
        "Завдання 8: Завдання: Напишіть програму, яка використовує багаторядковий f-string для форматування інформації про книгу. Програма повинна запитувати у користувача:\n",
        "1.\tНазву книги.\n",
        "2.\tІм'я американського автора.\n",
        "3.\tРік видання.\n",
        "4.\tКількість екземплярів.\n",
        "5.\tВартість книги (форматування з грошовим символом і двома знаками після коми).\n",
        "6.\tРейтинг книги (число з двома знаками після коми).\n",
        "Всі числові значення (кількість екземплярів, вартість та рейтинг) повинні бути відформатовані:\n",
        "•\tкількість екземплярів — цілочисельне значення з комами тисяч,\n",
        "•\tвартість — з грошовим символом та двома знаками після коми,\n",
        "•\tрейтинг — з двома знаками після коми.\n"
      ],
      "metadata": {
        "id": "Xa4qB99xW14y"
      }
    },
    {
      "cell_type": "code",
      "source": [
        "class Book:\n",
        "    book_name = None\n",
        "    book_autor = None\n",
        "    book_year_of_publication = None\n",
        "    book_count = None\n",
        "    book_cost = None\n",
        "    book_rating = None\n",
        "\n",
        "    def __init__(self,book_name = None,book_autor = None,book_year_of_publication = None,book_count = None,book_cost = None,book_rating = None):\n",
        "        self.book_name = book_name\n",
        "        self.book_autor = book_autor\n",
        "        self.book_year_of_publication = book_year_of_publication\n",
        "        self.book_count = book_count\n",
        "        self.book_cost = book_cost\n",
        "        self.book_rating = book_rating\n",
        "\n",
        "        self.get_info()\n",
        "\n",
        "    def get_info(self):\n",
        "        print(f'''\n",
        "    Інформація про книгу:\n",
        "    Назва: {self.book_name}\n",
        "    Автор: {self.book_autor}\n",
        "    Рік видання: {self.book_year_of_publication}\n",
        "    Кількість екземплярів: {self.book_count:,}\n",
        "    Вартість: ${self.book_cost:.2f}\n",
        "    Рейтинг: {self.book_rating:.2f}\n",
        "    ''')\n",
        "\n",
        "book1 = Book(input('Введіть назву книги: '),\n",
        "             input('Введіть автора (американського автора): '),\n",
        "             int(input('Введіть рік видання: ')),\n",
        "             int(input('Введіть кількість екземплярів: ')),\n",
        "             float(input('Введіть вартість книги: ')),\n",
        "             float(input('Введіть рейтинг книги: '))\n",
        "             )\n",
        "# Book('Убити пересмішника','Харпер Лі',1960,1234567,18.99,9.2)"
      ],
      "metadata": {
        "id": "S-RqsrPuc-0a",
        "outputId": "74d0314e-23ba-4748-9926-b039d034adff",
        "colab": {
          "base_uri": "https://localhost:8080/"
        }
      },
      "execution_count": null,
      "outputs": [
        {
          "output_type": "stream",
          "name": "stdout",
          "text": [
            "Введіть назву книги: Убити пересмішника\n",
            "Введіть автора (американського автора): Харпер Лі\n",
            "Введіть рік видання: 1960\n",
            "Введіть кількість екземплярів: 1234567\n",
            "Введіть вартість книги: 18.99\n",
            "Введіть рейтинг книги: 9.2\n",
            "\n",
            "    Інформація про книгу:\n",
            "    Назва: Убити пересмішника\n",
            "    Автор: Харпер Лі\n",
            "    Рік видання: 1960\n",
            "    Кількість екземплярів: 1,234,567\n",
            "    Вартість: $18.99\n",
            "    Рейтинг: 9.20 \n",
            "    \n"
          ]
        }
      ]
    },
    {
      "cell_type": "code",
      "source": [],
      "metadata": {
        "id": "k3ISRiK53A1V",
        "outputId": "2380e6e9-4265-4e9d-affa-cde8ba3ff911",
        "colab": {
          "base_uri": "https://localhost:8080/",
          "height": 35
        }
      },
      "execution_count": null,
      "outputs": [
        {
          "output_type": "execute_result",
          "data": {
            "text/plain": [
              "'Hello'"
            ],
            "application/vnd.google.colaboratory.intrinsic+json": {
              "type": "string"
            }
          },
          "metadata": {},
          "execution_count": 1
        }
      ]
    }
  ],
  "metadata": {
    "colab": {
      "toc_visible": true,
      "provenance": [],
      "include_colab_link": true
    },
    "kernelspec": {
      "display_name": "Python 3",
      "name": "python3"
    }
  },
  "nbformat": 4,
  "nbformat_minor": 0
}