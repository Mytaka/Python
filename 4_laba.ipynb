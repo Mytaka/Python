{
  "nbformat": 4,
  "nbformat_minor": 0,
  "metadata": {
    "colab": {
      "provenance": [],
      "authorship_tag": "ABX9TyNOW5pxX5fV2awO+DUUenid",
      "include_colab_link": true
    },
    "kernelspec": {
      "name": "python3",
      "display_name": "Python 3"
    },
    "language_info": {
      "name": "python"
    }
  },
  "cells": [
    {
      "cell_type": "markdown",
      "metadata": {
        "id": "view-in-github",
        "colab_type": "text"
      },
      "source": [
        "<a href=\"https://colab.research.google.com/github/Mytaka/projects-python/blob/main/4_laba.ipynb\" target=\"_parent\"><img src=\"https://colab.research.google.com/assets/colab-badge.svg\" alt=\"Open In Colab\"/></a>"
      ]
    },
    {
      "cell_type": "markdown",
      "source": [
        "Лабораторна № 4\n",
        "Зуєв Микита"
      ],
      "metadata": {
        "id": "V0ArLkvupfeR"
      }
    },
    {
      "cell_type": "markdown",
      "source": [
        "Завдання 1. Напишіть програму, яка запитує у користувача число і перевіряє, чи є воно парним чи непарним"
      ],
      "metadata": {
        "id": "CSqTEs-Mh5PY"
      }
    },
    {
      "cell_type": "code",
      "source": [
        "num = int(input('print any number: '))\n",
        "if num % 2 == 0:\n",
        "  print('парне')\n",
        "else:\n",
        "  print('непарне')"
      ],
      "metadata": {
        "colab": {
          "base_uri": "https://localhost:8080/"
        },
        "id": "ob63X8yZiNP5",
        "outputId": "03bc7782-e9c6-4848-8f1e-5ced2c046221"
      },
      "execution_count": null,
      "outputs": [
        {
          "output_type": "stream",
          "name": "stdout",
          "text": [
            "print any number: 123121\n",
            "непарне\n"
          ]
        }
      ]
    },
    {
      "cell_type": "markdown",
      "source": [
        "Завдання 2. В завданні 1 передбачити окрему змінну text_pass, в яку через пробіл прописати всі можливі паролі. Використовуючи функції обробки текстів, перевірити чи є введений пароль серед паролів змінної text_pass.\n",
        "Наприклад: text_pass =\"hhh lll hhh ddd sss\".\n"
      ],
      "metadata": {
        "id": "EMtUXuWXh_Ce"
      }
    },
    {
      "cell_type": "code",
      "source": [
        "text_pass = \"hhh lll hhh ddd sss\"\n",
        "passes = text_pass.split(' ')\n",
        "my_pass = 'dddd'\n",
        "\n",
        "for i in range(0,len(passes)):\n",
        "  if passes[i] == my_pass:\n",
        "    print(passes[i], ' index = ',i)\n",
        "  elif i == (len(passes)-1):\n",
        "    print(\"пароля у списку немає\")\n"
      ],
      "metadata": {
        "id": "pEAT7_kHjLY3"
      },
      "execution_count": null,
      "outputs": []
    },
    {
      "cell_type": "markdown",
      "source": [
        "Завдання 3. Напишіть програму для визначення оцінки студента за шкалою ЄКТС: А (90-100), В (82-89), С (74-81), D (64-73), E (60-63), FX (35-39), F (0-34).\n",
        "score = int(input(\"Введите вашу оцінку: \"))\n",
        "if score >= 90:\n",
        "\tprint(\"Ваша оцінка А\")\n",
        "elif score >= 82:\n",
        "\tprint(\"Ваша оцінка B\")\n",
        "….\n"
      ],
      "metadata": {
        "id": "AAeefMk9iDH0"
      }
    },
    {
      "cell_type": "code",
      "source": [
        "score = int(input(\"Введите вашу оцінку: \"))\n",
        "if score >= 90:\n",
        "\tprint(\"Ваша оцінка А\")\n",
        "elif score >= 82:\n",
        "\tprint(\"Ваша оцінка B\")\n",
        "elif score >= 74:\n",
        "  print(\"Ваша оцінка C\")\n",
        "elif score >= 64:\n",
        "  print(\"Ваша оцінка D\")\n",
        "elif score >= 60:\n",
        "  print(\"Ваша оцінка E\")\n",
        "elif score >= 35:\n",
        "  print(\"Ваша оцінка FX\")\n",
        "elif score >= 0:\n",
        "  print(\"Ваша оцінка F\")\n"
      ],
      "metadata": {
        "colab": {
          "base_uri": "https://localhost:8080/"
        },
        "id": "M8iwdl3slgFk",
        "outputId": "3485937e-807a-40b7-945a-166aaf925da8"
      },
      "execution_count": null,
      "outputs": [
        {
          "output_type": "stream",
          "name": "stdout",
          "text": [
            "Введите вашу оцінку: 36\n",
            "Ваша оцінка FX\n"
          ]
        }
      ]
    },
    {
      "cell_type": "markdown",
      "source": [
        "Завдання 3. Є два числа – a та b, значення яких задає користувач. Знайти найменьше з них."
      ],
      "metadata": {
        "id": "o3rO6CQHiFrY"
      }
    },
    {
      "cell_type": "code",
      "source": [
        "a = int(input('print any number: '))\n",
        "b = int(input('print any number: '))\n",
        "res = int([a,b])\n",
        "print(min(res))"
      ],
      "metadata": {
        "colab": {
          "base_uri": "https://localhost:8080/"
        },
        "id": "tN5-SAJlmaav",
        "outputId": "dd11f1a0-b064-4bdf-886f-3d0f892d07f9"
      },
      "execution_count": null,
      "outputs": [
        {
          "output_type": "stream",
          "name": "stdout",
          "text": [
            "print any number: 18\n",
            "print any number: 32\n",
            "18\n"
          ]
        }
      ]
    },
    {
      "cell_type": "markdown",
      "source": [
        "Завдання 4. Є три числа – a, b та с, значення яких задає користувач. Знайти найбільше з них."
      ],
      "metadata": {
        "id": "ZfVa-UpviHUM"
      }
    },
    {
      "cell_type": "code",
      "source": [
        "a = int(input('print any number: '))\n",
        "b = int(input('print any number: '))\n",
        "c = int(input('print any number: '))\n",
        "res = [a,b,c]\n",
        "print(max(res))"
      ],
      "metadata": {
        "colab": {
          "base_uri": "https://localhost:8080/"
        },
        "id": "RukYmj8bnVe_",
        "outputId": "81ccf91b-fa03-4c6f-9673-66c970115e1e"
      },
      "execution_count": null,
      "outputs": [
        {
          "output_type": "stream",
          "name": "stdout",
          "text": [
            "print any number: 2\n",
            "print any number: 4\n",
            "print any number: 26\n",
            "26\n"
          ]
        }
      ]
    },
    {
      "cell_type": "markdown",
      "source": [
        "Завдання 5. Напишіть програму, яка запитує у користувача номер дня (1-7) і виводить відповідний день тижня:\n",
        "1: \"Понеділок\"\n",
        "2: \"Вівторок\"\n",
        "3: \"Середа\"\n",
        "4: \"Четвер\"\n",
        "5: \"П'ятниця\"\n",
        "6: \"Субота\"\n",
        "7: \"Неділя\"\n"
      ],
      "metadata": {
        "id": "-WjE6b24iISz"
      }
    },
    {
      "cell_type": "code",
      "source": [
        "days = {1: \"Понеділок\",2: \"Вівторок\",3: \"Середа\",4: \"Четвер\",5: \"П'ятниця\",6: \"Субота\",7: \"Неділя\"}\n",
        "number = int(input('Напиши номер дня тижня: '))\n",
        "print(days[number])\n",
        "\n",
        "\n",
        "\n",
        "\n",
        "\n",
        "\n",
        "\n"
      ],
      "metadata": {
        "colab": {
          "base_uri": "https://localhost:8080/"
        },
        "id": "breKxVFbpr0n",
        "outputId": "cd18187c-3577-48ad-ef3d-ad4070235f43"
      },
      "execution_count": null,
      "outputs": [
        {
          "output_type": "stream",
          "name": "stdout",
          "text": [
            "Напиши номер дня тижня: 7\n",
            "Неділя\n"
          ]
        }
      ]
    },
    {
      "cell_type": "markdown",
      "source": [
        "Завдання 6. Створіть програму, яка запитує у користувача суму покупки і виводить суму з урахуванням знижки:\n",
        "•\t0-1000: немає знижки\n",
        "•\t1001-5000: 10% знижки\n",
        "•\t5001-10000: 20% знижки\n",
        "•\tпонад 10000: 30% знижки\n"
      ],
      "metadata": {
        "id": "tH9wZkJYiJNz"
      }
    },
    {
      "cell_type": "code",
      "source": [
        "money = int(input(\"Введите вашу оцінку: \"))\n",
        "if money >= 10000:\n",
        "\tprint(\"30% знижки\")\n",
        "elif money >= 5001:\n",
        "\tprint(\"20% знижки\")\n",
        "elif money >= 1001:\n",
        "  print(\"10% знижки\")\n",
        "elif money >= 0:\n",
        "  print(\"немає знижки\")\n"
      ],
      "metadata": {
        "colab": {
          "base_uri": "https://localhost:8080/"
        },
        "id": "z-8Wr4fSqYNC",
        "outputId": "3985ea52-3b3f-49d9-a9e0-3e0fdbce7dfb"
      },
      "execution_count": null,
      "outputs": [
        {
          "output_type": "stream",
          "name": "stdout",
          "text": [
            "Введите вашу оцінку: 312312\n",
            "30% знижки\n"
          ]
        }
      ]
    },
    {
      "cell_type": "markdown",
      "source": [
        "Завдання 7. Написати програму, яка  запитує у користувача його вік, наявність супутніх захворювань, а також чи є у нього шкідливі звички (паління та вживання алкоголю).\n",
        "Опис програми:\n",
        "o\tЯкщо вік менший за 18, користувач вважається \"Здоровим.\"\n",
        "o\tЯкщо користувач 18 років або більше:\n",
        "\tЯкщо у нього є супутні захворювання або він палить чи вживає алкоголь, виводиться повідомлення \"Ви вважаєтеся в зоні ризику.\"\n",
        "\tЯкщо всіх цих факторів немає, виводиться повідомлення \"Ви вважаєтеся Здоровим.\"\n"
      ],
      "metadata": {
        "id": "DtFG1f25iKZW"
      }
    },
    {
      "cell_type": "code",
      "source": [
        "user_age = int(input('How old are you? '))\n",
        "if user_age <= 18:\n",
        "  print('Ви вважаєтеся Здоровим.')\n",
        "elif user_age > 18:\n",
        "        user_illness = int(input('порахуй, скільки перерахованих пунктів про тебе: супутні захворювання, паління, вживання алкоголю: '))\n",
        "        if user_illness == 0:\n",
        "          print('Ви вважаєтеся Здоровим.')\n",
        "        elif user_illness > 0:\n",
        "          print('Ви вважаєтеся в зоні ризику')"
      ],
      "metadata": {
        "colab": {
          "base_uri": "https://localhost:8080/"
        },
        "id": "bpJ-EOxBrF6Z",
        "outputId": "57a61a03-6d25-4d34-a121-2d2216620328"
      },
      "execution_count": null,
      "outputs": [
        {
          "output_type": "stream",
          "name": "stdout",
          "text": [
            "How old are you? 21\n",
            "порахуй, скільки перерахованих пунктів про тебе: супутні захворювання, паління, вживання алкоголю: 0\n",
            "Ви вважаєтеся Здоровим.\n"
          ]
        }
      ]
    },
    {
      "cell_type": "markdown",
      "source": [
        "Завдання 8.* Створити програму, яка імітує роботу банкомату:\n",
        "- Програма починається з ініціалізації початкового балансу.\n",
        "- Користувач отримує меню з чотирма варіантами: перевірка балансу, внесення грошей, зняття грошей і вихід.\n",
        "Використовуються конструкції if, elif і else для обробки вибору:\n",
        "-\tПеревірка балансу.\n",
        "-\tВнесення грошей (з перевіркою, що сума більше 0).\n",
        "-\tЗняття грошей (з перевірками на достатність коштів і на правильність суми).\n",
        "-\tВихід з програми.\n"
      ],
      "metadata": {
        "id": "O55DZaOtiLsF"
      }
    },
    {
      "cell_type": "code",
      "source": [
        "print(\"Ласкаво просимо до банкомату!\")\n",
        "print(\"Виберіть дію:\")\n",
        "print(\"1. Перевірити баланс\")\n",
        "print(\"2. Внести гроші\")\n",
        "print(\"3. Зняти гроші\")\n",
        "print(\"4. Вихід\")\n",
        "\n",
        "balance = 100 #$\n",
        "\n",
        "while True:\n",
        "    user = int(input('Оберіть дію: '))\n",
        "    if user == 1:\n",
        "        print(balance,'$')\n",
        "\n",
        "    elif user == 2:\n",
        "        while balance:\n",
        "            input_money = float(input('скільки грошей ви хочете внести? '))\n",
        "            if input_money > 0:\n",
        "                balance += input_money\n",
        "                print('Операція пройшла успішно')\n",
        "                print('Ваш баланс: ', balance,'$')\n",
        "                break\n",
        "            else:\n",
        "                print('Введіть число більше за нуль')\n",
        "\n",
        "    elif user == 3:\n",
        "        if not balance:\n",
        "            print('У вас порожній баланс ＞﹏＜')\n",
        "        while balance:\n",
        "            output_money = float(input('скільки грошей ви хочете зняти? '))\n",
        "            if output_money >= 0 and output_money <= balance:\n",
        "                balance -= output_money\n",
        "                print('Операція пройшла успішно')\n",
        "                break\n",
        "            elif output_money < 0:\n",
        "                print('Введіть число більше за нуль')\n",
        "            elif output_money > balance:\n",
        "                print('Введіть число менше за ваш баланс')\n",
        "            print('Ваш баланс: ', balance,'$')\n",
        "\n",
        "    elif user == 4:\n",
        "        break\n",
        "print('Дякуємо за довіру')"
      ],
      "metadata": {
        "colab": {
          "base_uri": "https://localhost:8080/"
        },
        "id": "aMgz55xUbp5g",
        "outputId": "522eaa60-a593-4492-ba01-07294d0b8fcc"
      },
      "execution_count": null,
      "outputs": [
        {
          "output_type": "stream",
          "name": "stdout",
          "text": [
            "Ласкаво просимо до банкомату!\n",
            "Виберіть дію:\n",
            "1. Перевірити баланс\n",
            "2. Внести гроші\n",
            "3. Зняти гроші\n",
            "4. Вихід\n",
            "Оберіть дію: 1\n",
            "100 $\n",
            "Оберіть дію: 2\n",
            "скільки грошей ви хочете внести? 1000\n",
            "Ваш баланс:  1100.0 $\n",
            "Оберіть дію: 3\n",
            "скільки грошей ви хочете зняти? 100\n",
            "Оберіть дію: 3\n",
            "скільки грошей ви хочете зняти? 1000\n",
            "Оберіть дію: 3\n",
            "Оберіть дію: 3\n",
            "Оберіть дію: 4\n",
            "Дякуємо за довіру\n"
          ]
        }
      ]
    }
  ]
}